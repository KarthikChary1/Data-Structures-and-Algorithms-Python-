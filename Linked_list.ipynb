{
  "nbformat": 4,
  "nbformat_minor": 0,
  "metadata": {
    "colab": {
      "name": "Untitled0.ipynb",
      "provenance": []
    },
    "kernelspec": {
      "name": "python3",
      "display_name": "Python 3"
    },
    "language_info": {
      "name": "python"
    }
  },
  "cells": [
    {
      "cell_type": "code",
      "metadata": {
        "id": "kgo4Kdtg2IPV"
      },
      "source": [
        "#creating a class node for storing data and the address of the next node \n",
        "class Node:\n",
        "  def __init__(self,data=None,next=None):\n",
        "    self.data=data #data variable\n",
        "    self.next=next #pointer to the next variable "
      ],
      "execution_count": null,
      "outputs": []
    },
    {
      "cell_type": "code",
      "metadata": {
        "id": "jqtAmOLF2gNj"
      },
      "source": [
        "\n",
        "#linked list class \n",
        "class Linked_list:\n",
        "  def __init__(self):\n",
        "    self.head=None #variable to store node(starting node)\n",
        "\n",
        "  def insert_at_beginning(self,data):\n",
        "    self.head=Node(data,self.head)\n",
        "    print(\"Item inserted\")\n",
        "  \n",
        "  def insert_at_the_end(self,data):\n",
        "    if self.head is None:\n",
        "      self.head=Node(data,None)\n",
        "      return\n",
        "    itr=self.head\n",
        "    while itr.next:\n",
        "      itr=itr.next\n",
        "    itr.next=Node(data,None) \n",
        "\n",
        "  def get_length(self):\n",
        "    count = 0\n",
        "    itr = self.head\n",
        "    while itr:\n",
        "      count+=1\n",
        "      itr = itr.next\n",
        "\n",
        "    return count   \n",
        "  \n",
        "  def insert_at(self,data,index):\n",
        "    if index>self.get_length() or index < 0:\n",
        "      print(\"invalid index\")\n",
        "    itr=self.head\n",
        "    for i in range(index-1):\n",
        "      itr=itr.next\n",
        "    itr.next=Node(data,itr.next)  \n",
        "\n",
        "  def print(self):\n",
        "    if self.head is None:\n",
        "      print(\"Linked list is empty\")\n",
        "      return\n",
        "    itr = self.head\n",
        "    llstr = ''\n",
        "    while itr:\n",
        "      llstr += itr.data + \"-->\" if itr.next else itr.data\n",
        "      itr = itr.next\n",
        "    print(llstr)\n",
        "  \n",
        "  def remove(self,index):\n",
        "    if index>self.get_length() or index<0:\n",
        "      print(\"invalid index\")\n",
        "    itr=self.head  \n",
        "    for i in range(index):\n",
        "      itr=itr.next\n",
        "      itr.next=itr.next.next\n",
        "      break  \n",
        "  def insert_values(self, data_list):\n",
        "    self.head = None\n",
        "    for data in data_list:\n",
        "      self.insert_at_end(data)    "
      ],
      "execution_count": 50,
      "outputs": []
    },
    {
      "cell_type": "code",
      "metadata": {
        "id": "vB69MisRka9h",
        "colab": {
          "base_uri": "https://localhost:8080/"
        },
        "outputId": "66345a4c-9417-4ed8-9420-2b24cc251798"
      },
      "source": [
        "ll=Linked_list()\n",
        "\n",
        "ll.insert_at_beginning(\"karthik\")\n",
        "ll.insert_at_beginning(\"hello\")\n",
        "ll.insert_at(\"one\",1)\n",
        "ll.insert_at(\"two\",2)\n"
      ],
      "execution_count": 55,
      "outputs": [
        {
          "output_type": "stream",
          "name": "stdout",
          "text": [
            "Item inserted\n",
            "Item inserted\n"
          ]
        }
      ]
    },
    {
      "cell_type": "code",
      "metadata": {
        "colab": {
          "base_uri": "https://localhost:8080/"
        },
        "id": "PhXWh7D1yG9L",
        "outputId": "c97c0f35-74a7-42f2-9503-a7d2fe376577"
      },
      "source": [
        "ll.print()"
      ],
      "execution_count": 58,
      "outputs": [
        {
          "output_type": "stream",
          "name": "stdout",
          "text": [
            "hello-->one-->karthik\n"
          ]
        }
      ]
    },
    {
      "cell_type": "code",
      "metadata": {
        "id": "fbPadmLOyEb8"
      },
      "source": [
        "ll.remove(2)"
      ],
      "execution_count": 57,
      "outputs": []
    },
    {
      "cell_type": "code",
      "metadata": {
        "colab": {
          "base_uri": "https://localhost:8080/"
        },
        "id": "objtAHH3kubE",
        "outputId": "aa6ee144-1ebc-4158-9d38-936a2330e74f"
      },
      "source": [
        "ll.insert_at_beginning(\"hello\")"
      ],
      "execution_count": 41,
      "outputs": [
        {
          "output_type": "stream",
          "name": "stdout",
          "text": [
            "Item inserted\n"
          ]
        }
      ]
    },
    {
      "cell_type": "code",
      "metadata": {
        "colab": {
          "base_uri": "https://localhost:8080/"
        },
        "id": "oOx8YwKTk4fu",
        "outputId": "1c4a1ed8-a6a8-4f47-8228-1611890be4bd"
      },
      "source": [
        "ll.insert_at_beginning(\"karthik\")"
      ],
      "execution_count": 42,
      "outputs": [
        {
          "output_type": "stream",
          "name": "stdout",
          "text": [
            "Item inserted\n"
          ]
        }
      ]
    },
    {
      "cell_type": "code",
      "metadata": {
        "id": "778dfZhPlAs1"
      },
      "source": [
        "ll.insert_at(\"one\",1)\n"
      ],
      "execution_count": 43,
      "outputs": []
    },
    {
      "cell_type": "code",
      "metadata": {
        "id": "sNXcGpPwlC39",
        "colab": {
          "base_uri": "https://localhost:8080/"
        },
        "outputId": "d66d0f1a-8180-4068-ce62-e8a0f62d2796"
      },
      "source": [
        "ll.get_length()"
      ],
      "execution_count": 36,
      "outputs": [
        {
          "output_type": "execute_result",
          "data": {
            "text/plain": [
              "3"
            ]
          },
          "metadata": {},
          "execution_count": 36
        }
      ]
    },
    {
      "cell_type": "code",
      "metadata": {
        "colab": {
          "base_uri": "https://localhost:8080/"
        },
        "id": "Myz5YBs4wKkJ",
        "outputId": "69652361-69f1-483b-ec30-4af6deef3dde"
      },
      "source": [
        "ll.print()"
      ],
      "execution_count": 49,
      "outputs": [
        {
          "output_type": "stream",
          "name": "stdout",
          "text": [
            "karthik-->one-->two-->hello-->two\n"
          ]
        }
      ]
    },
    {
      "cell_type": "code",
      "metadata": {
        "id": "YPEdOegKwX6o"
      },
      "source": [
        "ll.insert_at(\"two\",2)"
      ],
      "execution_count": 48,
      "outputs": []
    },
    {
      "cell_type": "code",
      "metadata": {
        "id": "Sq_EvYA_w30u"
      },
      "source": [
        ""
      ],
      "execution_count": null,
      "outputs": []
    }
  ]
}